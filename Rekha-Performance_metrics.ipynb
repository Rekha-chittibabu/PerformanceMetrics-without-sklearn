{
  "nbformat": 4,
  "nbformat_minor": 0,
  "metadata": {
    "colab": {
      "name": "Rekha-Performance_metrics_Assignment.ipynb",
      "provenance": [],
      "collapsed_sections": []
    },
    "language_info": {
      "codemirror_mode": {
        "name": "ipython",
        "version": 3
      },
      "file_extension": ".py",
      "mimetype": "text/x-python",
      "name": "python",
      "nbconvert_exporter": "python",
      "pygments_lexer": "ipython3",
      "version": "3.6.8"
    },
    "kernelspec": {
      "display_name": "Python 3",
      "language": "python",
      "name": "python3"
    }
  },
  "cells": [
    {
      "cell_type": "markdown",
      "metadata": {
        "id": "s0Ej_bXyQvnV"
      },
      "source": [
        "# Compute performance metrics for the given Y and Y_score without sklearn"
      ]
    },
    {
      "cell_type": "code",
      "metadata": {
        "id": "4CHb6NE7Qvnc"
      },
      "source": [
        "import numpy as np\n",
        "import pandas as pd\n",
        "from sklearn.metrics import roc_auc_score\n",
        "# other than these two you should not import any other packages"
      ],
      "execution_count": 1,
      "outputs": []
    },
    {
      "cell_type": "markdown",
      "metadata": {
        "id": "KbsWXuDaQvnq"
      },
      "source": [
        "<pre>\n",
        "<font color='red'><b>A.</b></font> Compute performance metrics for the given data <strong>5_a.csv</strong>\n",
        "   <b>Note 1:</b> in this data you can see number of positive points >> number of negatives points\n",
        "   <b>Note 2:</b> use pandas or numpy to read the data from <b>5_a.csv</b>\n",
        "   <b>Note 3:</b> you need to derive the class labels from given score</pre> $y^{pred}= \\text{[0 if y_score < 0.5 else 1]}$\n",
        "\n",
        "<pre>\n",
        "<ol>\n",
        "<li> Compute Confusion Matrix </li>\n",
        "<li> Compute F1 Score </li>\n",
        "<li> Compute AUC Score, you need to compute different thresholds and for each threshold compute tpr,fpr and then use               numpy.trapz(tpr_array, fpr_array) <a href='https://stackoverflow.com/q/53603376/4084039'>https://stackoverflow.com/q/53603376/4084039</a>, <a href='https://stackoverflow.com/a/39678975/4084039'>https://stackoverflow.com/a/39678975/4084039</a> Note: it should be numpy.trapz(tpr_array, fpr_array) not numpy.trapz(fpr_array, tpr_array)</li>\n",
        "<li> Compute Accuracy Score </li>\n",
        "</ol>\n",
        "</pre>"
      ]
    },
    {
      "cell_type": "code",
      "metadata": {
        "id": "WaFLW7oBQvnt",
        "colab": {
          "base_uri": "https://localhost:8080/"
        },
        "outputId": "5f677b6c-2b55-4805-e6b8-d6b54dd674f0"
      },
      "source": [
        "# write your code here\r\n",
        "from google.colab import drive\r\n",
        "drive.mount('/content/mount')\r\n"
      ],
      "execution_count": 2,
      "outputs": [
        {
          "output_type": "stream",
          "text": [
            "Mounted at /content/mount\n"
          ],
          "name": "stdout"
        }
      ]
    },
    {
      "cell_type": "code",
      "metadata": {
        "id": "FClISHup_aOE"
      },
      "source": [
        "import os\r\n",
        "os.chdir(\"/content/mount/My Drive/ColabNotebooks\")"
      ],
      "execution_count": 3,
      "outputs": []
    },
    {
      "cell_type": "code",
      "metadata": {
        "colab": {
          "base_uri": "https://localhost:8080/"
        },
        "id": "uwlf0xNj_mdD",
        "outputId": "f15d1cac-00cd-4a99-c8ad-c9bcb71647c3"
      },
      "source": [
        "data=pd.read_csv('5_a.csv')\r\n",
        "data.loc[data['proba'] >= 0.5, 'proba'] = 1\r\n",
        "data.loc[data['proba'] < 0.5, 'proba'] = 0\r\n",
        "print(data.loc[data['y']==0])\r\n",
        "data.shape"
      ],
      "execution_count": 4,
      "outputs": [
        {
          "output_type": "stream",
          "text": [
            "        y  proba\n",
            "39    0.0    1.0\n",
            "260   0.0    1.0\n",
            "590   0.0    1.0\n",
            "626   0.0    1.0\n",
            "956   0.0    1.0\n",
            "...   ...    ...\n",
            "9189  0.0    1.0\n",
            "9437  0.0    1.0\n",
            "9613  0.0    1.0\n",
            "9645  0.0    1.0\n",
            "9835  0.0    1.0\n",
            "\n",
            "[100 rows x 2 columns]\n"
          ],
          "name": "stdout"
        },
        {
          "output_type": "execute_result",
          "data": {
            "text/plain": [
              "(10100, 2)"
            ]
          },
          "metadata": {
            "tags": []
          },
          "execution_count": 4
        }
      ]
    },
    {
      "cell_type": "code",
      "metadata": {
        "id": "2KbQ0rGjn3qo"
      },
      "source": [
        "def compute(actual, predicted):\r\n",
        "  tp = np.sum((predicted == 1) & (actual == 1))\r\n",
        "  tn = np.sum((predicted == 0) & (actual == 0))\r\n",
        "  fp = np.sum((predicted == 1) & (actual == 0))  \r\n",
        "  fn = np.sum((predicted == 0) & (actual == 1))  \r\n",
        "  return tp, tn, fp, fn"
      ],
      "execution_count": 5,
      "outputs": []
    },
    {
      "cell_type": "code",
      "metadata": {
        "colab": {
          "base_uri": "https://localhost:8080/"
        },
        "id": "_BjPk01LoPFr",
        "outputId": "c3d0d0ff-b2ff-412f-e5ef-2ec92cfce98f"
      },
      "source": [
        "tp, tn, fp, fn = compute(data.y, data.proba)\r\n",
        "confusion_matrix= [[0 for x in range(2)] for y in range(2)]\r\n",
        "confusion_matrix[0][0]=tp\r\n",
        "confusion_matrix[0][1]=fp\r\n",
        "confusion_matrix[1][0]=fn\r\n",
        "confusion_matrix[1][1]=tn\r\n",
        "print(confusion_matrix)"
      ],
      "execution_count": 6,
      "outputs": [
        {
          "output_type": "stream",
          "text": [
            "[[10000, 100], [0, 0]]\n"
          ],
          "name": "stdout"
        }
      ]
    },
    {
      "cell_type": "code",
      "metadata": {
        "colab": {
          "base_uri": "https://localhost:8080/"
        },
        "id": "kDa_d1_ctM4L",
        "outputId": "0d3894f7-c251-4fb1-ef05-9a49dc61304c"
      },
      "source": [
        "# F1 score\r\n",
        "precision=tp/(tp+fp)\r\n",
        "recall=tp/(tp+fn)\r\n",
        "f1_score=2*precision*recall/(precision+recall)\r\n",
        "print(f1_score)"
      ],
      "execution_count": 7,
      "outputs": [
        {
          "output_type": "stream",
          "text": [
            "0.9950248756218906\n"
          ],
          "name": "stdout"
        }
      ]
    },
    {
      "cell_type": "code",
      "metadata": {
        "id": "2aYRte8keRF6"
      },
      "source": [
        "def roc_score(actual, prob_a, thresholds):  \r\n",
        "    tpr_array = []\r\n",
        "    fpr_array = []\r\n",
        "    for threshold in thresholds:\r\n",
        "        predicted = np.where(prob_a >= threshold, 1, 0)\r\n",
        "        tp = np.sum((predicted == 1) & (actual == 1))\r\n",
        "        tn = np.sum((predicted == 0) & (actual == 0))\r\n",
        "        fp = np.sum((predicted == 1) & (actual == 0))  \r\n",
        "        fn = np.sum((predicted == 0) & (actual == 1))   \r\n",
        "        tpr_value=tp/(tp+fn)\r\n",
        "        fpr_value=fp/(tn+fp) \r\n",
        "        tpr_array.append(tpr_value)\r\n",
        "        fpr_array.append(fpr_value)\r\n",
        "    return tpr_array,fpr_array\r\n"
      ],
      "execution_count": 8,
      "outputs": []
    },
    {
      "cell_type": "code",
      "metadata": {
        "colab": {
          "base_uri": "https://localhost:8080/"
        },
        "id": "KY9ihvADgdn2",
        "outputId": "82720e21-6852-4cdd-fe5a-c0d8034d7afa"
      },
      "source": [
        "df_a=pd.read_csv('5_a.csv')\r\n",
        "tpr_array,fpr_array=roc_score(df_a.y,df_a.proba,[1.0,0.9,0.8,0.7,0.6,0.5,0.4,0.3,0.2,0.1,0.0])\r\n",
        "auc_score=np.trapz(tpr_array, fpr_array)\r\n",
        "print(auc_score)"
      ],
      "execution_count": 9,
      "outputs": [
        {
          "output_type": "stream",
          "text": [
            "0.48897750000000006\n"
          ],
          "name": "stdout"
        }
      ]
    },
    {
      "cell_type": "code",
      "metadata": {
        "colab": {
          "base_uri": "https://localhost:8080/"
        },
        "id": "N0fl8c5cvnBW",
        "outputId": "dcf10741-b0fc-473a-e014-77943dde0ea7"
      },
      "source": [
        "# Accuracy\r\n",
        "accuracy=(tp+tn)/(tp+tn+fp+fn)\r\n",
        "print(accuracy)"
      ],
      "execution_count": 10,
      "outputs": [
        {
          "output_type": "stream",
          "text": [
            "0.9900990099009901\n"
          ],
          "name": "stdout"
        }
      ]
    },
    {
      "cell_type": "markdown",
      "metadata": {
        "id": "3kVbCSxYyTpT"
      },
      "source": [
        ""
      ]
    },
    {
      "cell_type": "markdown",
      "metadata": {
        "id": "V5KZem1BQvn2"
      },
      "source": [
        "<pre>\n",
        "<font color='red'><b>B.</b></font> Compute performance metrics for the given data <strong>5_b.csv</strong>\n",
        "   <b>Note 1:</b> in this data you can see number of positive points << number of negatives points\n",
        "   <b>Note 2:</b> use pandas or numpy to read the data from <b>5_b.csv</b>\n",
        "   <b>Note 3:</b> you need to derive the class labels from given score</pre> $y^{pred}= \\text{[0 if y_score < 0.5 else 1]}$\n",
        "\n",
        "<pre>\n",
        "<ol>\n",
        "<li> Compute Confusion Matrix </li>\n",
        "<li> Compute F1 Score </li>\n",
        "<li> Compute AUC Score, you need to compute different thresholds and for each threshold compute tpr,fpr and then use               numpy.trapz(tpr_array, fpr_array) <a href='https://stackoverflow.com/q/53603376/4084039'>https://stackoverflow.com/q/53603376/4084039</a>, <a href='https://stackoverflow.com/a/39678975/4084039'>https://stackoverflow.com/a/39678975/4084039</a></li>\n",
        "<li> Compute Accuracy Score </li>\n",
        "</ol>\n",
        "</pre>"
      ]
    },
    {
      "cell_type": "code",
      "metadata": {
        "id": "U2sKlq0YQvn5",
        "colab": {
          "base_uri": "https://localhost:8080/"
        },
        "outputId": "082f61c1-e7d8-4b82-b426-a359bd6963d3"
      },
      "source": [
        "df=pd.read_csv('5_b.csv')\r\n",
        "df.loc[df['proba'] >= 0.5, 'proba'] = 1\r\n",
        "df.loc[df['proba'] < 0.5, 'proba'] = 0\r\n",
        "tp, tn, fp, fn = compute(df.y, df.proba)\r\n",
        "confusion_matrix= [[0 for x in range(2)] for y in range(2)]\r\n",
        "confusion_matrix[0][0]=tp\r\n",
        "confusion_matrix[0][1]=fp\r\n",
        "confusion_matrix[1][0]=fn\r\n",
        "confusion_matrix[1][1]=tn\r\n",
        "print(confusion_matrix)"
      ],
      "execution_count": 39,
      "outputs": [
        {
          "output_type": "stream",
          "text": [
            "[[55, 239], [45, 9761]]\n"
          ],
          "name": "stdout"
        }
      ]
    },
    {
      "cell_type": "code",
      "metadata": {
        "colab": {
          "base_uri": "https://localhost:8080/"
        },
        "id": "gETG8fjYyis3",
        "outputId": "4a7e5c12-bc05-4966-a074-8bea6b637bb2"
      },
      "source": [
        "# F1 score\r\n",
        "precision=tp/(tp+fp)\r\n",
        "recall=tp/(tp+fn)\r\n",
        "f1_score=2*precision*recall/(precision+recall)\r\n",
        "print(f1_score)"
      ],
      "execution_count": 40,
      "outputs": [
        {
          "output_type": "stream",
          "text": [
            "0.2791878172588833\n"
          ],
          "name": "stdout"
        }
      ]
    },
    {
      "cell_type": "code",
      "metadata": {
        "colab": {
          "base_uri": "https://localhost:8080/"
        },
        "id": "DDQHNy3pyoRS",
        "outputId": "0400ab08-e343-4e74-c200-6d96733f9255"
      },
      "source": [
        "# AUC Score\r\n",
        "df_b=pd.read_csv('5_b.csv')\r\n",
        "tpr,fpr=roc_score(df_b.y,df_b.proba,[1.0,0.8,0.6,0.55,0.5,0.45,0.43,0.42,0.41,0.4,0.2,0.1,0.0])\r\n",
        "print(tpr,fpr)\r\n",
        "auc_score=np.trapz(tpr, fpr)\r\n",
        "print(auc_score)"
      ],
      "execution_count": 103,
      "outputs": [
        {
          "output_type": "stream",
          "text": [
            "[0.0, 0.0, 0.0, 0.27, 0.55, 0.79, 0.9, 0.92, 0.96, 1.0, 1.0, 1.0, 1.0] [0.0, 0.0, 0.0, 0.0, 0.0239, 0.1458, 0.1963, 0.2216, 0.2448, 0.2683, 0.7497, 1.0, 1.0]\n",
            "0.9337055\n"
          ],
          "name": "stdout"
        }
      ]
    },
    {
      "cell_type": "code",
      "metadata": {
        "colab": {
          "base_uri": "https://localhost:8080/"
        },
        "id": "L83QXSmFy3P3",
        "outputId": "4aaadd2b-fb0c-4842-fe82-aaa8df2a31e9"
      },
      "source": [
        "# Accuracy\r\n",
        "accuracy=(tp+tn)/(tp+tn+fp+fn)\r\n",
        "print(accuracy)"
      ],
      "execution_count": 104,
      "outputs": [
        {
          "output_type": "stream",
          "text": [
            "0.9718811881188119\n"
          ],
          "name": "stdout"
        }
      ]
    },
    {
      "cell_type": "markdown",
      "metadata": {
        "id": "GiPGonTzQvoB"
      },
      "source": [
        "<font color='red'><b>C.</b></font> Compute the best threshold (similarly to ROC curve computation) of probability which gives lowest values of metric <b>A</b> for the given data <strong>5_c.csv</strong>\n",
        "<br>\n",
        "\n",
        "you will be predicting label of a data points like this: $y^{pred}= \\text{[0 if y_score < threshold  else 1]}$\n",
        "\n",
        "$ A = 500 \\times \\text{number of false negative} + 100 \\times \\text{numebr of false positive}$\n",
        "\n",
        "<pre>\n",
        "   <b>Note 1:</b> in this data you can see number of negative points > number of positive points\n",
        "   <b>Note 2:</b> use pandas or numpy to read the data from <b>5_c.csv</b>\n",
        "</pre>"
      ]
    },
    {
      "cell_type": "code",
      "metadata": {
        "id": "Hjr_KN_lkuH1"
      },
      "source": [
        "def best_threshold(actual, prob_c, thresholds):  \r\n",
        "    A_values={}\r\n",
        "    for threshold in thresholds:\r\n",
        "        predicted = np.where(prob_c >= threshold, 1, 0)\r\n",
        "        tp = np.sum((predicted == 1) & (actual == 1))\r\n",
        "        tn = np.sum((predicted == 0) & (actual == 0))\r\n",
        "        fp = np.sum((predicted == 1) & (actual == 0))  \r\n",
        "        fn = np.sum((predicted == 0) & (actual == 1))  \r\n",
        "        A=500 * fn +100 * fp \r\n",
        "        A_values[threshold]=A\r\n",
        "    min_th=min(A_values, key=A_values.get)\r\n",
        "    return min_th\r\n"
      ],
      "execution_count": 107,
      "outputs": []
    },
    {
      "cell_type": "code",
      "metadata": {
        "id": "x5HIJzq1QvoE",
        "colab": {
          "base_uri": "https://localhost:8080/"
        },
        "outputId": "5cad9bf4-2d45-4166-de5d-49835f966d34"
      },
      "source": [
        "# Best threshold\r\n",
        "df_c=pd.read_csv('5_c.csv')\r\n",
        "best_th=best_threshold(df_c['y'],df_c['prob'],[1.0,0.8,0.6,0.5,0.4,0.3,0.25,0.23,0.2,0.1,0.0])\r\n",
        "print(best_th)"
      ],
      "execution_count": 113,
      "outputs": [
        {
          "output_type": "stream",
          "text": [
            "{1.0: 523500, 0.8: 469900, 0.6: 338600, 0.5: 247800, 0.4: 187900, 0.3: 155800, 0.25: 141600, 0.23: 141000, 0.2: 147200, 0.1: 166500, 0.0: 180500}\n",
            "0.23\n"
          ],
          "name": "stdout"
        }
      ]
    },
    {
      "cell_type": "markdown",
      "metadata": {
        "id": "sD4CcgjXQvoL"
      },
      "source": [
        "<pre>\n",
        "<font color='red'><b>D.</b></font> Compute performance metrics(for regression) for the given data <strong>5_d.csv</strong>\n",
        "    <b>Note 2:</b> use pandas or numpy to read the data from <b>5_d.csv</b>\n",
        "    <b>Note 1:</b> <b>5_d.csv</b> will having two columns Y and predicted_Y both are real valued features\n",
        "<ol>\n",
        "<li> Compute Mean Square Error </li>\n",
        "<li> Compute MAPE: https://www.youtube.com/watch?v=ly6ztgIkUxk</li>\n",
        "<li> Compute R^2 error: https://en.wikipedia.org/wiki/Coefficient_of_determination#Definitions </li>\n",
        "</ol>\n",
        "</pre>"
      ]
    },
    {
      "cell_type": "code",
      "metadata": {
        "id": "MVUnbz5P5DMN",
        "colab": {
          "base_uri": "https://localhost:8080/"
        },
        "outputId": "cdeb23e1-6de7-4798-d17e-bcb79e1dcd00"
      },
      "source": [
        "# MSE\r\n",
        "df_d=pd.read_csv('5_d.csv')\r\n",
        "total_rows=len(df_d.index)\r\n",
        "err_df=(df_d['y'] - df_d['pred'])*(df_d['y'] - df_d['pred'])\r\n",
        "sum=err_df.sum()\r\n",
        "mse=sum/total_rows\r\n",
        "print(mse)\r\n"
      ],
      "execution_count": 114,
      "outputs": [
        {
          "output_type": "stream",
          "text": [
            "177.16569974554707\n"
          ],
          "name": "stdout"
        }
      ]
    },
    {
      "cell_type": "code",
      "metadata": {
        "colab": {
          "base_uri": "https://localhost:8080/"
        },
        "id": "igNKYs08jskI",
        "outputId": "daaf7c78-c295-4f95-fcc1-6a38ab4cb0ec"
      },
      "source": [
        "# MAPE\r\n",
        "sum_actual=df_d['y'].sum()\r\n",
        "err=abs(df_d['y'] - df_d['pred'])\r\n",
        "err_sum=err.sum()\r\n",
        "mape=err_sum/sum_actual\r\n",
        "print(mape)"
      ],
      "execution_count": 115,
      "outputs": [
        {
          "output_type": "stream",
          "text": [
            "0.1291202994009687\n"
          ],
          "name": "stdout"
        }
      ]
    },
    {
      "cell_type": "code",
      "metadata": {
        "colab": {
          "base_uri": "https://localhost:8080/"
        },
        "id": "hIC3HFocs_8W",
        "outputId": "3e8b5c80-f90c-46fb-86ad-92b71db7f6eb"
      },
      "source": [
        "# R^2 error\r\n",
        "ss_res=err_df.sum()\r\n",
        "sum_actual=df_d['y'].sum()\r\n",
        "avg_actual=sum_actual/total_rows\r\n",
        "ss=(df_d['y']-avg_actual) ** 2\r\n",
        "ss_tot=ss.sum()\r\n",
        "r_squared=1-(ss_res/ss_tot)\r\n",
        "print(r_squared)"
      ],
      "execution_count": 116,
      "outputs": [
        {
          "output_type": "stream",
          "text": [
            "0.9563582786990937\n"
          ],
          "name": "stdout"
        }
      ]
    }
  ]
}